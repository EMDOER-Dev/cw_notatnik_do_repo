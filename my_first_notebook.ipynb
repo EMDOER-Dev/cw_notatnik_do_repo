{
 "cells": [
  {
   "cell_type": "markdown",
   "id": "6002a79a-1df2-48ff-b0b1-fc04fcb91272",
   "metadata": {},
   "source": [
    "# My first notebook\n",
    "This is my first notebook. This text is made with Markdown."
   ]
  },
  {
   "cell_type": "code",
   "execution_count": 11,
   "id": "52d8ae19-8eef-46eb-8279-dc5aa792edcd",
   "metadata": {},
   "outputs": [
    {
     "name": "stdout",
     "output_type": "stream",
     "text": [
      "This is another cell, this text was printed by Python\n"
     ]
    }
   ],
   "source": [
    "print(\"This is another cell, this text was printed by Python\")\n"
   ]
  },
  {
   "cell_type": "markdown",
   "id": "e0b4d4c7-588f-4031-b02c-6ef74fdec77a",
   "metadata": {},
   "source": [
    "## Tworzenie funkcji w Pythonie\n",
    "\n",
    "Aby stworzyć funkcję w Pythonie, używamy słowa kluczowego `def`, po którym następuje nazwa funkcji i para nawiasów okrągłych `()`. W nawiasach możemy umieścić parametry wejściowe funkcji. Następnie dodajemy dwukropek `:` i wcięcie, które oznacza ciało funkcji. Wewnątrz ciała funkcji umieszczamy kod, który chcemy, aby funkcja wykonywała.\n",
    "\n",
    "Przykład definicji funkcji dodającej dwie liczby:\n",
    "\n",
    "```python\n",
    "def dodaj(a, b):\n",
    "    return a + b"
   ]
  },
  {
   "cell_type": "code",
   "execution_count": 12,
   "id": "da986fe7-9ff7-4f13-8ba4-99d5146db749",
   "metadata": {},
   "outputs": [],
   "source": [
    "### Komórka z kodem: Tworzenie funkcji\n",
    "\n",
    "def dodaj(a, b):\n",
    "    return a + b"
   ]
  },
  {
   "cell_type": "markdown",
   "id": "82cc5eb3-6371-4427-aa7a-544ceff850e4",
   "metadata": {},
   "source": [
    "## Wywoływanie funkcji w Pythonie\n",
    "\n",
    "Aby wywołać funkcję w Pythonie, używamy jej nazwy, po której następują nawiasy okrągłe `()`. W nawiasach tych umieszczamy argumenty, które chcemy przekazać do funkcji. \n",
    "\n",
    "Przykład wywołania funkcji `dodaj` z argumentami `3` i `5`:\n",
    "\n",
    "```python\n",
    "dodaj(3, 5)"
   ]
  },
  {
   "cell_type": "code",
   "execution_count": 13,
   "id": "65ddee6d-7145-413d-b132-8b4e6b2297e6",
   "metadata": {},
   "outputs": [
    {
     "name": "stdout",
     "output_type": "stream",
     "text": [
      "8\n"
     ]
    }
   ],
   "source": [
    "### Komórka z kodem: Przykład wywołania funkcji\n",
    "\n",
    "# Przykład wywołania funkcji dodaj\n",
    "wynik = dodaj(3, 5)\n",
    "print(wynik)  # powinno wypisać 8"
   ]
  }
 ],
 "metadata": {
  "kernelspec": {
   "display_name": "Python 3 (ipykernel)",
   "language": "python",
   "name": "python3"
  },
  "language_info": {
   "codemirror_mode": {
    "name": "ipython",
    "version": 3
   },
   "file_extension": ".py",
   "mimetype": "text/x-python",
   "name": "python",
   "nbconvert_exporter": "python",
   "pygments_lexer": "ipython3",
   "version": "3.11.8"
  }
 },
 "nbformat": 4,
 "nbformat_minor": 5
}
